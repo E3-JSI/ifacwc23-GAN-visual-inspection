{
 "cells": [
  {
   "cell_type": "markdown",
   "id": "39fc06e9",
   "metadata": {},
   "source": [
    "### Instructions\n",
    "1. Clone the repository: https://github.com/pzajec/DRAEM\n",
    "2. Download the checkpoint and extract it to **DRAEM/checkpoints/** \n",
    "3. Input to DRAEM are 256x256 images (colored)"
   ]
  },
  {
   "cell_type": "code",
   "execution_count": null,
   "id": "cbabe920",
   "metadata": {},
   "outputs": [],
   "source": [
    "import sys\n",
    "sys.path.append('../DRAEM/') # Path to DRAEM repository\n",
    "from test_DRAEM import *\n",
    "\n",
    "import torch\n",
    "from torchvision import transforms\n",
    "from PIL import Image\n",
    "import matplotlib.pyplot as plt\n",
    "from tqdm.auto import tqdm\n",
    "\n",
    "import utils\n",
    "\n",
    "to_image = transforms.ToPILImage()\n",
    "to_tensor = transforms.ToTensor()\n",
    "\n",
    "torch.set_grad_enabled(False)\n",
    "device = 'cuda' if torch.cuda.is_available() else 'cpu'"
   ]
  },
  {
   "cell_type": "markdown",
   "id": "0a7d3b6c",
   "metadata": {},
   "source": [
    "### Load DRAEM checkpoint"
   ]
  },
  {
   "cell_type": "code",
   "execution_count": null,
   "id": "5534e868",
   "metadata": {},
   "outputs": [],
   "source": [
    "checkpoint_path = '../DRAEM/checkpoints/'\n",
    "run_name = 'DRAEM_test_0.0001_700_bs8_shavers_'\n",
    "\n",
    "model = ReconstructiveSubNetwork(in_channels=3, out_channels=3)\n",
    "model.load_state_dict(torch.load(os.path.join(checkpoint_path,run_name+\".pckl\"), map_location=device))\n",
    "model.to(device)\n",
    "model.eval()\n",
    "\n",
    "model_seg = DiscriminativeSubNetwork(in_channels=6, out_channels=2)\n",
    "model_seg.load_state_dict(torch.load(os.path.join(checkpoint_path, run_name+\"_seg.pckl\"), map_location=device))\n",
    "model_seg.to(device)\n",
    "model_seg.eval();"
   ]
  },
  {
   "cell_type": "markdown",
   "id": "8852318b",
   "metadata": {},
   "source": [
    "### DRAEM prediction"
   ]
  },
  {
   "cell_type": "code",
   "execution_count": null,
   "id": "2c41bb84",
   "metadata": {},
   "outputs": [],
   "source": [
    "def get_draem_prediction(t_image):\n",
    "    # t_image: torch.Tensor\n",
    "    #image = to_tensor(image)[None, :].to(device)\n",
    "    image = t_image\n",
    "    \n",
    "    # Get reconstruction\n",
    "    image_rec = model(image)\n",
    "\n",
    "    # Get heatmap\n",
    "    joined_in = torch.cat((image_rec.detach(), image), dim=1)\n",
    "    out_mask = model_seg(joined_in)\n",
    "    out_mask_sm = torch.softmax(out_mask, dim=1)\n",
    "\n",
    "    # Get anomaly score\n",
    "    out_mask_averaged = torch.nn.functional.avg_pool2d(out_mask_sm[: ,1: ,: ,:], 21, stride=1,\n",
    "                                                               padding=21 // 2).cpu().detach().numpy()\n",
    "    image_score = np.max(out_mask_averaged)\n",
    "    \n",
    "    # Tensors to images\n",
    "    o = to_image(image[0].cpu())\n",
    "    r = to_image(image_rec[0].cpu())\n",
    "    m = to_image(out_mask_sm[:, 1:, :, :][0].cpu())\n",
    "\n",
    "    # Gray to heatmap\n",
    "    ma = np.array(m)\n",
    "    cmap = plt.cm.jet\n",
    "    norm = plt.Normalize(vmin=ma.min(), vmax=ma.max())\n",
    "    heatmap = cmap(norm(ma))\n",
    "\n",
    "    return o, r, heatmap, image_score"
   ]
  },
  {
   "cell_type": "code",
   "execution_count": null,
   "id": "774393b4",
   "metadata": {},
   "outputs": [],
   "source": [
    "# Load raw images instead of tensors\n",
    "shavers_raw = utils.Shavers('<path_to_your_dataset>',\n",
    "        return_tensors=False, dims=(3, 256, 256))\n",
    "\n",
    "# Use a subset of good images\n",
    "inds = np.arange(len(shavers_raw))[np.array(shavers_raw.targets) == 1]\n",
    "\n",
    "# Generate double print image\n",
    "im = np.array(shavers_raw[inds[0]][0])\n",
    "im = Image.fromarray(double_print(im)[0])"
   ]
  },
  {
   "cell_type": "code",
   "execution_count": null,
   "id": "2830148d",
   "metadata": {},
   "outputs": [],
   "source": [
    "original, reconstructed, heatmap, anomaly_score = get_draem_prediction(\n",
    "    to_tensor(im)[None, :].to(device))"
   ]
  }
 ],
 "metadata": {
  "kernelspec": {
   "display_name": "Python 3 (ipykernel)",
   "language": "python",
   "name": "python3"
  },
  "language_info": {
   "codemirror_mode": {
    "name": "ipython",
    "version": 3
   },
   "file_extension": ".py",
   "mimetype": "text/x-python",
   "name": "python",
   "nbconvert_exporter": "python",
   "pygments_lexer": "ipython3",
   "version": "3.9.5"
  }
 },
 "nbformat": 4,
 "nbformat_minor": 5
}
