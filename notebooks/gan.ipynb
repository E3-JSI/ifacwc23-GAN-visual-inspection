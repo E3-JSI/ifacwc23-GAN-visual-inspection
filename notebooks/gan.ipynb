{
 "cells": [
  {
   "cell_type": "markdown",
   "id": "9856dd45",
   "metadata": {},
   "source": [
    "## 1. Train lightweight gan model\n",
    "\n",
    "See https://github.com/lucidrains/lightweight-gan\n",
    "\n",
    "Use the following command:\n",
    "```\n",
    "lightweight_gan --data <path_to_your_dataset> --image-size 256  --name <class_name> --num_train_steps 20000 --save_every 500 --evaluate_every 500\n",
    "```"
   ]
  },
  {
   "cell_type": "markdown",
   "id": "e10b3ddb",
   "metadata": {},
   "source": [
    "## 2. Generate synthetic images"
   ]
  },
  {
   "cell_type": "code",
   "execution_count": null,
   "id": "93d7addd",
   "metadata": {},
   "outputs": [],
   "source": [
    "import sys\n",
    "sys.path.append('../repos/lightweight-gan/') # path to lightweight-gan repository"
   ]
  },
  {
   "cell_type": "code",
   "execution_count": null,
   "id": "8c9d8df3",
   "metadata": {},
   "outputs": [],
   "source": [
    "import os\n",
    "from tqdm.notebook import tqdm\n",
    "import shutil\n",
    "import numpy as np\n",
    "\n",
    "import matplotlib.pyplot as plt\n",
    "from torchvision.transforms import ToPILImage\n",
    "\n",
    "import torch\n",
    "torch.set_grad_enabled(False)\n",
    "from PIL import Image\n",
    "\n",
    "from lightweight_gan import cli\n"
   ]
  },
  {
   "cell_type": "code",
   "execution_count": null,
   "id": "efe26fe9",
   "metadata": {},
   "outputs": [],
   "source": [
    "root = '<path_to_root_directory>'\n",
    "model = cli.train_from_folder(\n",
    "    data=root + '../train/double/',\n",
    "    results_dir=root + './results',\n",
    "    models_dir=root + './models',\n",
    "    image_size=256,\n",
    "    greyscale=False,\n",
    "    name='<class_name>',\n",
    "    just_load_model=True\n",
    ")"
   ]
  },
  {
   "cell_type": "code",
   "execution_count": null,
   "id": "334aba5c",
   "metadata": {},
   "outputs": [],
   "source": [
    "model.GAN.eval()\n",
    "latent_dim = model.GAN.latent_dim\n",
    "ext = model.image_extension"
   ]
  },
  {
   "cell_type": "code",
   "execution_count": null,
   "id": "9a9cfe2c",
   "metadata": {},
   "outputs": [],
   "source": [
    "import torch.nn.functional as F\n",
    "from torchvision.utils import make_grid\n",
    "import torchvision\n",
    "\n",
    "def show(imgs):\n",
    "    if not isinstance(imgs, list):\n",
    "        imgs = [imgs]\n",
    "    fix, axs = plt.subplots(figsize=(20, 20), ncols=len(imgs), squeeze=False)\n",
    "    for i, img in enumerate(imgs):\n",
    "        img = img.detach()\n",
    "        img = torchvision.transforms.functional.to_pil_image(img)\n",
    "        axs[0, i].imshow(np.asarray(img))\n",
    "        axs[0, i].set(xticklabels=[], yticklabels=[], xticks=[], yticks=[])"
   ]
  },
  {
   "cell_type": "code",
   "execution_count": null,
   "id": "06c1353f",
   "metadata": {},
   "outputs": [],
   "source": [
    "imgs = []\n",
    "pil_imgs = []\n",
    "torch.manual_seed(1) # Seed for double images\n",
    "latents = torch.randn((25, latent_dim)).cuda()\n",
    "\n",
    "for i in range(25):\n",
    "    generated_image = model.generate_(model.GAN.G, latents[i][None, :]) \n",
    "    img = generated_image.cpu()[0]\n",
    "    imgs.append(img)\n",
    "    \n",
    "    pil_img = torchvision.transforms.functional.to_pil_image(img)\n",
    "    pil_imgs.append(pil_img)\n",
    "show(make_grid(imgs, nrow=5, normalize=False))"
   ]
  },
  {
   "cell_type": "code",
   "execution_count": null,
   "id": "5a6bcd84",
   "metadata": {},
   "outputs": [],
   "source": [
    "torch.manual_seed(1) # Seed for double images\n",
    "latents = torch.randn((600, latent_dim)).cuda()\n",
    "\n",
    "for i in tqdm(range(600)):\n",
    "    generated_image = model.generate_(model.GAN.G, latents[i][None, :]) \n",
    "    img = generated_image.cpu()[0]\n",
    "    pil_img = torchvision.transforms.functional.to_pil_image(img)\n",
    "    pil_img.save('fake/%d.png' % i)\n"
   ]
  }
 ],
 "metadata": {
  "kernelspec": {
   "display_name": "Python 3 (ipykernel)",
   "language": "python",
   "name": "python3"
  },
  "language_info": {
   "codemirror_mode": {
    "name": "ipython",
    "version": 3
   },
   "file_extension": ".py",
   "mimetype": "text/x-python",
   "name": "python",
   "nbconvert_exporter": "python",
   "pygments_lexer": "ipython3",
   "version": "3.9.5"
  }
 },
 "nbformat": 4,
 "nbformat_minor": 5
}
